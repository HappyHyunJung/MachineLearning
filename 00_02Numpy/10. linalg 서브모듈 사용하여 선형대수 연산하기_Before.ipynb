{
 "cells": [
  {
   "cell_type": "markdown",
   "metadata": {},
   "source": [
    "## 학습목표\n",
    " 1. linalg 서브모듈 함수 활용여 선형대수 연산하기"
   ]
  },
  {
   "cell_type": "code",
   "execution_count": 1,
   "metadata": {},
   "outputs": [],
   "source": [
    "import numpy as np"
   ]
  },
  {
   "cell_type": "markdown",
   "metadata": {},
   "source": [
    "#### np.linalg.inv\n",
    " - 역행렬을 구할 때 사용\n",
    " - 모든 차원의 값이 같아야 함"
   ]
  },
  {
   "cell_type": "code",
   "execution_count": 3,
   "metadata": {},
   "outputs": [
    {
     "name": "stdout",
     "output_type": "stream",
     "text": [
      "[[[0.86903352 0.35998733 0.39031417]\n",
      "  [0.13378927 0.85761179 0.57045735]\n",
      "  [0.35011563 0.3250907  0.31971295]]\n",
      "\n",
      " [[0.7106336  0.85747096 0.74535263]\n",
      "  [0.41650948 0.96172028 0.17071039]\n",
      "  [0.55297463 0.51149389 0.52573943]]\n",
      "\n",
      " [[0.8143796  0.93609433 0.76865804]\n",
      "  [0.55143754 0.20125057 0.65543918]\n",
      "  [0.49276515 0.71975138 0.86161475]]]\n",
      "[[[  2.65708493   0.35317014  -3.87399515]\n",
      "  [  4.69955085   4.22748458 -13.28035346]\n",
      "  [ -7.68835686  -4.68534766  20.8739299 ]]\n",
      "\n",
      " [[ -8.87021562   1.47512088  12.09652491]\n",
      "  [  2.64172225   0.81753735  -4.01068786]\n",
      "  [  6.75958318  -2.34692266  -6.91907214]]\n",
      "\n",
      " [[  1.90583726   1.61810993  -2.93113573]\n",
      "  [  0.97190802  -2.06272822   0.70208639]\n",
      "  [ -1.90185037   0.79769212   2.25046508]]]\n"
     ]
    },
    {
     "data": {
      "text/plain": [
       "array([[[ 1.00000000e+00, -8.96850844e-17, -4.99564305e-16],\n",
       "        [ 6.45935169e-16,  1.00000000e+00, -1.71869458e-15],\n",
       "        [ 7.78183572e-17, -7.02516637e-17,  1.00000000e+00]],\n",
       "\n",
       "       [[ 1.00000000e+00, -2.86927081e-17, -7.62410107e-16],\n",
       "        [ 2.26834097e-16,  1.00000000e+00, -1.02541104e-15],\n",
       "        [-1.12549045e-15,  4.97976774e-17,  1.00000000e+00]],\n",
       "\n",
       "       [[ 1.00000000e+00,  2.06519000e-17, -2.40444062e-16],\n",
       "        [ 1.60115031e-17,  1.00000000e+00, -2.08607044e-16],\n",
       "        [-9.97984002e-17,  8.10976834e-18,  1.00000000e+00]]])"
      ]
     },
     "execution_count": 3,
     "metadata": {},
     "output_type": "execute_result"
    }
   ],
   "source": [
    "x = np.random.rand(3, 3, 3)\n",
    "print(x)\n",
    "\n",
    "y = np.linalg.inv(x)\n",
    "print(y)\n",
    "\n",
    "np.matmul(x, y)"
   ]
  },
  {
   "cell_type": "markdown",
   "metadata": {},
   "source": [
    "#### np.linalg.solve\n",
    " - Ax = B 형태의 선형대수식 솔루션을 제공\n",
    " - 예제) 호랑이와 홍합의 합 : 25 호랑이 다리와 홍합 다리의 합은 64\n",
    "   - x + y = 25\n",
    "   - 2x + 4y = 64\n",
    "   \n",
    " $$\\begin{pmatrix} 1 & 1 \\\\ 2 & 4 \\end{pmatrix}\\begin{pmatrix} x \\\\ y \\end{pmatrix}= \\begin{pmatrix} 25 \\\\ 64 \\end{pmatrix}$$\n"
   ]
  },
  {
   "cell_type": "code",
   "execution_count": 4,
   "metadata": {},
   "outputs": [
    {
     "name": "stdout",
     "output_type": "stream",
     "text": [
      "[18.  7.]\n"
     ]
    }
   ],
   "source": [
    "A = np.array([[1, 1], [2, 4]])\n",
    "B = np.array([25, 64])\n",
    "\n",
    "x = np.linalg.solve(A, B)\n",
    "print(x)"
   ]
  },
  {
   "cell_type": "code",
   "execution_count": 5,
   "metadata": {},
   "outputs": [
    {
     "data": {
      "text/plain": [
       "True"
      ]
     },
     "execution_count": 5,
     "metadata": {},
     "output_type": "execute_result"
    }
   ],
   "source": [
    "np.allclose(A @ x, B)"
   ]
  },
  {
   "cell_type": "code",
   "execution_count": null,
   "metadata": {},
   "outputs": [],
   "source": []
  }
 ],
 "metadata": {
  "kernelspec": {
   "display_name": "Python 3",
   "language": "python",
   "name": "python3"
  },
  "language_info": {
   "codemirror_mode": {
    "name": "ipython",
    "version": 3
   },
   "file_extension": ".py",
   "mimetype": "text/x-python",
   "name": "python",
   "nbconvert_exporter": "python",
   "pygments_lexer": "ipython3",
   "version": "3.8.5"
  }
 },
 "nbformat": 4,
 "nbformat_minor": 1
}
